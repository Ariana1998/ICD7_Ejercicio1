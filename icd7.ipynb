{
 "cells": [
  {
   "cell_type": "markdown",
   "id": "3d98e2db-8519-4cd8-9f75-9e65331585a1",
   "metadata": {},
   "source": [
    "# Notebook ICD - 7"
   ]
  },
  {
   "cell_type": "markdown",
   "id": "7c2bea34-06dd-4b57-90da-dce66eeedabf",
   "metadata": {},
   "source": [
    "Install libraries via terminal"
   ]
  },
  {
   "cell_type": "code",
   "execution_count": 1,
   "id": "582ef0ff-9295-4337-89ee-764fe81c0f5d",
   "metadata": {},
   "outputs": [],
   "source": [
    "#pip install spacy\n",
    "#pip install nltk\n",
    "#pip install sklearn"
   ]
  },
  {
   "cell_type": "markdown",
   "id": "476a1956-9666-48c5-98a5-2cbb514c22ef",
   "metadata": {},
   "source": [
    "Se importan las librer&iacute;as necesarias"
   ]
  },
  {
   "cell_type": "code",
   "execution_count": 2,
   "id": "1ce4c060-b967-4856-b7cf-b6ea32740ef9",
   "metadata": {},
   "outputs": [],
   "source": [
    "import pandas as pd\n",
    "import re\n",
    "import spacy as spc\n",
    "import nltk\n",
    "from nltk.corpus import stopwords\n",
    "from nltk.tokenize import word_tokenize\n",
    "from sklearn.feature_extraction.text import CountVectorizer"
   ]
  },
  {
   "cell_type": "markdown",
   "id": "b04d0bc4-caab-43b2-b791-7a903f2a67f6",
   "metadata": {},
   "source": [
    "## Datos de entrada"
   ]
  },
  {
   "cell_type": "code",
   "execution_count": 27,
   "id": "73f38d8f-f3e8-4bae-8afe-b74fd140ae4b",
   "metadata": {},
   "outputs": [
    {
     "name": "stdout",
     "output_type": "stream",
     "text": [
      "Las futbolistas se entrenan en Gotemburgo tras la comparecencia de las capitanas\n",
      " Un interruptor multitarea permite cambiar la atención de una tarea a otra\n"
     ]
    }
   ],
   "source": [
    "oracion = \"Las futbolistas se entrenan en Gotemburgo tras la comparecencia de las capitanas\"\n",
    "print(oracion)\n",
    "oracion1 = \" Un interruptor multitarea permite cambiar la atención de una tarea a otra\"\n",
    "print(oracion1)"
   ]
  },
  {
   "cell_type": "markdown",
   "id": "5ace6213-b9e5-4dde-80f8-cffede8fc3b7",
   "metadata": {},
   "source": [
    "## Procesamiento"
   ]
  },
  {
   "cell_type": "markdown",
   "id": "72533121-a276-4248-9cd1-71bfdc4ce66f",
   "metadata": {},
   "source": [
    "### Limpieza de datos"
   ]
  },
  {
   "cell_type": "code",
   "execution_count": 28,
   "id": "2afad44f-9233-4584-9e43-5cad07ef213e",
   "metadata": {},
   "outputs": [
    {
     "name": "stdout",
     "output_type": "stream",
     "text": [
      "las futbolistas se entrenan en gotemburgo tras la comparecencia de las capitanas\n",
      " un interruptor multitarea permite cambiar la atención de una tarea a otra\n"
     ]
    }
   ],
   "source": [
    "oracion = oracion.lower()\n",
    "oracion = re.sub(r\"@\\S+\", \"\", oracion)  # Eliminar menciones a usuarios\n",
    "oracion = re.sub(\"http[s]?\\://\\S+\", \"\", oracion)  # Eliminar enlaces\n",
    "oracion = re.sub(r\"#\\S+\", \"\", oracion)  # Eliminar hashtags\n",
    "oracion = re.sub(r\"[0-9]\", \"\", oracion)  # Eliminar números\n",
    "oracion = re.sub(r\"(\\(.*\\))|(\\[.*\\])\", \"\", oracion)  # Eliminar paréntesis y corchetes\n",
    "oracion = re.sub(r\"\\n\", \"\", oracion)  # Eliminar caracteres de nueva línea\n",
    "oracion = re.sub(r\"(http[s]?\\://\\S+)|([\\[\\(].*[\\)\\]])|([#@]\\S+)|\\n\", \"\", oracion)  # Eliminar varios patrones\n",
    "oracion = re.sub(r\"(\\.)|(,)\", \"\", oracion)  # Eliminar puntos y comas\n",
    "oracion = re.sub(r\"[¡!]\", \"\", oracion)  # Eliminar signos de admiración \n",
    "oracion = re.sub(r\"[¿?]\", \"\", oracion)  # Eliminar signos de exclamación\n",
    "print(oracion)\n",
    "\n",
    "oracion1 = oracion1.lower()\n",
    "oracion1 = re.sub(r\"\\n\", \"\", oracion1)  # Eliminar caracteres de nueva línea\n",
    "print(oracion1)\n"
   ]
  },
  {
   "cell_type": "markdown",
   "id": "0da20449-7603-4d01-9866-6be0fbf0063c",
   "metadata": {},
   "source": [
    "### Tokenización"
   ]
  },
  {
   "cell_type": "code",
   "execution_count": 29,
   "id": "86a798d9-a52d-41bf-80b6-4d36808cee15",
   "metadata": {},
   "outputs": [
    {
     "name": "stdout",
     "output_type": "stream",
     "text": [
      "['las', 'futbolistas', 'se', 'entrenan', 'en', 'gotemburgo', 'tras', 'la', 'comparecencia', 'de', 'las', 'capitanas']\n",
      "['un', 'interruptor', 'multitarea', 'permite', 'cambiar', 'la', 'atención', 'de', 'una', 'tarea', 'a', 'otra']\n"
     ]
    }
   ],
   "source": [
    "#nltk.download('punkt')\n",
    "tokens = word_tokenize(oracion)\n",
    "print(tokens)\n",
    "\n",
    "tokens1 = word_tokenize(oracion1)\n",
    "print(tokens1)"
   ]
  },
  {
   "cell_type": "markdown",
   "id": "ba33108d-855f-4898-a16d-82d8fd19ee4f",
   "metadata": {},
   "source": [
    "### Stopwords"
   ]
  },
  {
   "cell_type": "code",
   "execution_count": 30,
   "id": "a9990057-f614-463c-bc59-276163f9c16f",
   "metadata": {},
   "outputs": [
    {
     "name": "stdout",
     "output_type": "stream",
     "text": [
      "['futbolistas', 'entrenan', 'gotemburgo', 'tras', 'comparecencia', 'capitanas']\n",
      "['interruptor', 'multitarea', 'permite', 'cambiar', 'atención', 'tarea']\n"
     ]
    }
   ],
   "source": [
    "#nltk.download('stopwords')\n",
    "spanish_stopwords = stopwords.words('spanish')\n",
    "palabras_filtradas = [palabra for palabra in tokens if palabra not in spanish_stopwords]\n",
    "print(palabras_filtradas)\n",
    "\n",
    "spanish_stopwords1 = stopwords.words('spanish')\n",
    "palabras_filtradas1 = [palabra for palabra in tokens1 if palabra not in spanish_stopwords]\n",
    "print(palabras_filtradas1)"
   ]
  },
  {
   "cell_type": "markdown",
   "id": "bfd83dce-3bb0-4258-a752-3297c1fffa55",
   "metadata": {},
   "source": [
    "### Lematización"
   ]
  },
  {
   "cell_type": "code",
   "execution_count": 7,
   "id": "9854623a-2f73-46ec-8f1d-8cd14e31d670",
   "metadata": {},
   "outputs": [],
   "source": [
    "#sudo python3 -m spacy download es"
   ]
  },
  {
   "cell_type": "code",
   "execution_count": 31,
   "id": "8a78c030-5094-48a0-aa9c-dc63ff9bfddb",
   "metadata": {},
   "outputs": [
    {
     "name": "stdout",
     "output_type": "stream",
     "text": [
      "futbolista entrenar gotemburgo tras comparecencia capitana\n",
      "interruptor multitarea permitir cambiar atención tareo\n"
     ]
    }
   ],
   "source": [
    "nlp = spc.load(\"es_core_news_sm\")\n",
    "lema = nlp(\" \".join(palabras_filtradas))\n",
    "oracion_lematizada = \" \".join([token.lemma_ for token in lema])\n",
    "print(oracion_lematizada)\n",
    "\n",
    "nlp = spc.load(\"es_core_news_sm\")\n",
    "lema = nlp(\" \".join(palabras_filtradas1))\n",
    "oracion_lematizada1 = \" \".join([token.lemma_ for token in lema])\n",
    "print(oracion_lematizada1)"
   ]
  },
  {
   "cell_type": "markdown",
   "id": "115d08ba-3bff-4982-8a0d-53e1b16209f4",
   "metadata": {},
   "source": [
    "## Bag of Words"
   ]
  },
  {
   "cell_type": "code",
   "execution_count": 32,
   "id": "2736fdd5-dde2-48d7-ad8d-01d1db87f66c",
   "metadata": {},
   "outputs": [],
   "source": [
    "vectorizador = CountVectorizer()\n",
    "vectores = vectorizador.fit_transform([oracion_lematizada])\n",
    "vocabulario = vectorizador.get_feature_names_out()\n",
    "\n",
    "vectorizador1 = CountVectorizer()\n",
    "vectores1 = vectorizador1.fit_transform([oracion_lematizada1])\n",
    "vocabulario1 = vectorizador1.get_feature_names_out()"
   ]
  },
  {
   "cell_type": "markdown",
   "id": "62c90384-68b0-460a-8cd3-82becb828de8",
   "metadata": {},
   "source": [
    "### Resultados"
   ]
  },
  {
   "cell_type": "code",
   "execution_count": 33,
   "id": "c71ef6ab-76b1-4e20-adbb-5dd1c25e1348",
   "metadata": {},
   "outputs": [
    {
     "name": "stdout",
     "output_type": "stream",
     "text": [
      "Oración de entrada: las futbolistas se entrenan en gotemburgo tras la comparecencia de las capitanas\n",
      "Oración lematizada: futbolista entrenar gotemburgo tras comparecencia capitana\n",
      "Vectores Bag of Words: [[1 1 1 1 1 1]]\n",
      "Vocabulario: ['capitana' 'comparecencia' 'entrenar' 'futbolista' 'gotemburgo' 'tras']\n",
      "Oración de entrada:  un interruptor multitarea permite cambiar la atención de una tarea a otra\n",
      "Oración lematizada: interruptor multitarea permitir cambiar atención tareo\n",
      "Vectores Bag of Words: [[1 1 1 1 1 1]]\n",
      "Vocabulario: ['atención' 'cambiar' 'interruptor' 'multitarea' 'permitir' 'tareo']\n"
     ]
    }
   ],
   "source": [
    "print(\"Oración de entrada:\", oracion)\n",
    "print(\"Oración lematizada:\", oracion_lematizada)\n",
    "print(\"Vectores Bag of Words:\", vectores.toarray())\n",
    "print(\"Vocabulario:\", vocabulario)\n",
    "\n",
    "print(\"Oración de entrada:\", oracion1)\n",
    "print(\"Oración lematizada:\", oracion_lematizada1)\n",
    "print(\"Vectores Bag of Words:\", vectores1.toarray())\n",
    "print(\"Vocabulario:\", vocabulario1)"
   ]
  },
  {
   "cell_type": "markdown",
   "id": "248b9bcd-1d1c-443b-b06a-8551bdee0af7",
   "metadata": {},
   "source": [
    "### Construir Dataframe"
   ]
  },
  {
   "cell_type": "code",
   "execution_count": 34,
   "id": "0c552894-bc08-4397-8982-3cb8df82052d",
   "metadata": {},
   "outputs": [
    {
     "data": {
      "text/html": [
       "<div>\n",
       "<style scoped>\n",
       "    .dataframe tbody tr th:only-of-type {\n",
       "        vertical-align: middle;\n",
       "    }\n",
       "\n",
       "    .dataframe tbody tr th {\n",
       "        vertical-align: top;\n",
       "    }\n",
       "\n",
       "    .dataframe thead th {\n",
       "        text-align: right;\n",
       "    }\n",
       "</style>\n",
       "<table border=\"1\" class=\"dataframe\">\n",
       "  <thead>\n",
       "    <tr style=\"text-align: right;\">\n",
       "      <th></th>\n",
       "      <th>capitana</th>\n",
       "      <th>comparecencia</th>\n",
       "      <th>entrenar</th>\n",
       "      <th>futbolista</th>\n",
       "      <th>gotemburgo</th>\n",
       "      <th>tras</th>\n",
       "    </tr>\n",
       "  </thead>\n",
       "  <tbody>\n",
       "    <tr>\n",
       "      <th>0</th>\n",
       "      <td>1</td>\n",
       "      <td>1</td>\n",
       "      <td>1</td>\n",
       "      <td>1</td>\n",
       "      <td>1</td>\n",
       "      <td>1</td>\n",
       "    </tr>\n",
       "  </tbody>\n",
       "</table>\n",
       "</div>"
      ],
      "text/plain": [
       "   capitana  comparecencia  entrenar  futbolista  gotemburgo  tras\n",
       "0         1              1         1           1           1     1"
      ]
     },
     "execution_count": 34,
     "metadata": {},
     "output_type": "execute_result"
    }
   ],
   "source": [
    "df_bw = pd.DataFrame.sparse.from_spmatrix(vectores,columns = vocabulario)\n",
    "df_bw.head()\n",
    "\n"
   ]
  },
  {
   "cell_type": "code",
   "execution_count": 35,
   "id": "2015d4bc",
   "metadata": {},
   "outputs": [],
   "source": [
    "df_bw['Clase'] = 'Deporte'"
   ]
  },
  {
   "cell_type": "code",
   "execution_count": 36,
   "id": "bae042ce-df3f-4b1e-8f6d-306c9c621703",
   "metadata": {},
   "outputs": [
    {
     "data": {
      "text/html": [
       "<div>\n",
       "<style scoped>\n",
       "    .dataframe tbody tr th:only-of-type {\n",
       "        vertical-align: middle;\n",
       "    }\n",
       "\n",
       "    .dataframe tbody tr th {\n",
       "        vertical-align: top;\n",
       "    }\n",
       "\n",
       "    .dataframe thead th {\n",
       "        text-align: right;\n",
       "    }\n",
       "</style>\n",
       "<table border=\"1\" class=\"dataframe\">\n",
       "  <thead>\n",
       "    <tr style=\"text-align: right;\">\n",
       "      <th></th>\n",
       "      <th>atención</th>\n",
       "      <th>cambiar</th>\n",
       "      <th>interruptor</th>\n",
       "      <th>multitarea</th>\n",
       "      <th>permitir</th>\n",
       "      <th>tareo</th>\n",
       "    </tr>\n",
       "  </thead>\n",
       "  <tbody>\n",
       "    <tr>\n",
       "      <th>0</th>\n",
       "      <td>1</td>\n",
       "      <td>1</td>\n",
       "      <td>1</td>\n",
       "      <td>1</td>\n",
       "      <td>1</td>\n",
       "      <td>1</td>\n",
       "    </tr>\n",
       "  </tbody>\n",
       "</table>\n",
       "</div>"
      ],
      "text/plain": [
       "   atención  cambiar  interruptor  multitarea  permitir  tareo\n",
       "0         1        1            1           1         1      1"
      ]
     },
     "execution_count": 36,
     "metadata": {},
     "output_type": "execute_result"
    }
   ],
   "source": [
    "df_bw1 = pd.DataFrame.sparse.from_spmatrix(vectores1,columns = vocabulario1)\n",
    "df_bw1.head()"
   ]
  },
  {
   "cell_type": "code",
   "execution_count": 37,
   "id": "a679abda",
   "metadata": {},
   "outputs": [],
   "source": [
    "df_bw1['Clase'] = 'Frase'"
   ]
  },
  {
   "cell_type": "code",
   "execution_count": 38,
   "id": "d2b7b3ec",
   "metadata": {},
   "outputs": [
    {
     "data": {
      "text/html": [
       "<div>\n",
       "<style scoped>\n",
       "    .dataframe tbody tr th:only-of-type {\n",
       "        vertical-align: middle;\n",
       "    }\n",
       "\n",
       "    .dataframe tbody tr th {\n",
       "        vertical-align: top;\n",
       "    }\n",
       "\n",
       "    .dataframe thead th {\n",
       "        text-align: right;\n",
       "    }\n",
       "</style>\n",
       "<table border=\"1\" class=\"dataframe\">\n",
       "  <thead>\n",
       "    <tr style=\"text-align: right;\">\n",
       "      <th></th>\n",
       "      <th>capitana</th>\n",
       "      <th>comparecencia</th>\n",
       "      <th>entrenar</th>\n",
       "      <th>futbolista</th>\n",
       "      <th>gotemburgo</th>\n",
       "      <th>tras</th>\n",
       "      <th>atención</th>\n",
       "      <th>cambiar</th>\n",
       "      <th>interruptor</th>\n",
       "      <th>multitarea</th>\n",
       "      <th>permitir</th>\n",
       "      <th>tareo</th>\n",
       "      <th>Clase</th>\n",
       "    </tr>\n",
       "  </thead>\n",
       "  <tbody>\n",
       "    <tr>\n",
       "      <th>0</th>\n",
       "      <td>1.0</td>\n",
       "      <td>1.0</td>\n",
       "      <td>1.0</td>\n",
       "      <td>1.0</td>\n",
       "      <td>1.0</td>\n",
       "      <td>1.0</td>\n",
       "      <td>0.0</td>\n",
       "      <td>0.0</td>\n",
       "      <td>0.0</td>\n",
       "      <td>0.0</td>\n",
       "      <td>0.0</td>\n",
       "      <td>0.0</td>\n",
       "      <td>Deporte</td>\n",
       "    </tr>\n",
       "    <tr>\n",
       "      <th>1</th>\n",
       "      <td>0.0</td>\n",
       "      <td>0.0</td>\n",
       "      <td>0.0</td>\n",
       "      <td>0.0</td>\n",
       "      <td>0.0</td>\n",
       "      <td>0.0</td>\n",
       "      <td>1.0</td>\n",
       "      <td>1.0</td>\n",
       "      <td>1.0</td>\n",
       "      <td>1.0</td>\n",
       "      <td>1.0</td>\n",
       "      <td>1.0</td>\n",
       "      <td>Frase</td>\n",
       "    </tr>\n",
       "  </tbody>\n",
       "</table>\n",
       "</div>"
      ],
      "text/plain": [
       "   capitana  comparecencia  entrenar  futbolista  gotemburgo  tras  atención  \\\n",
       "0       1.0            1.0       1.0         1.0         1.0   1.0       0.0   \n",
       "1       0.0            0.0       0.0         0.0         0.0   0.0       1.0   \n",
       "\n",
       "   cambiar  interruptor  multitarea  permitir  tareo    Clase  \n",
       "0      0.0          0.0         0.0       0.0    0.0  Deporte  \n",
       "1      1.0          1.0         1.0       1.0    1.0    Frase  "
      ]
     },
     "execution_count": 38,
     "metadata": {},
     "output_type": "execute_result"
    }
   ],
   "source": [
    "resultado = pd.merge(df_bw,df_bw1, how=\"outer\", on=\"Clase\")\n",
    "resultado = resultado [[col for col in resultado.columns if col != 'Clase'] + ['Clase']]\n",
    "resultado.fillna(0)\n"
   ]
  }
 ],
 "metadata": {
  "kernelspec": {
   "display_name": "Python 3 (ipykernel)",
   "language": "python",
   "name": "python3"
  },
  "language_info": {
   "codemirror_mode": {
    "name": "ipython",
    "version": 3
   },
   "file_extension": ".py",
   "mimetype": "text/x-python",
   "name": "python",
   "nbconvert_exporter": "python",
   "pygments_lexer": "ipython3",
   "version": "3.11.5"
  }
 },
 "nbformat": 4,
 "nbformat_minor": 5
}
